{
 "cells": [
  {
   "cell_type": "code",
   "execution_count": 1,
   "metadata": {
    "scrolled": true
   },
   "outputs": [
    {
     "data": {
      "text/html": [
       "<h1>Hello, world!</h1>"
      ],
      "text/plain": [
       "<IPython.core.display.HTML object>"
      ]
     },
     "metadata": {},
     "output_type": "display_data"
    }
   ],
   "source": [
    "from IPython.core.display import display, HTML\n",
    "display(HTML('<h1>Hello, world!</h1>'))"
   ]
  },
  {
   "cell_type": "markdown",
   "metadata": {
    "id": "aa4ed27a"
   },
   "source": [
    "<h2>User Analytics in the Telecommunication Industry - Overview</h2>"
   ]
  },
  {
   "cell_type": "code",
   "execution_count": 2,
   "metadata": {
    "executionInfo": {
     "elapsed": 536,
     "status": "ok",
     "timestamp": 1626169586067,
     "user": {
      "displayName": "Kevin Karobia",
      "photoUrl": "",
      "userId": "11620910033834049837"
     },
     "user_tz": -180
    },
    "id": "ee45d041"
   },
   "outputs": [],
   "source": [
    "import pandas as pd\n",
    "import numpy as np\n",
    "import seaborn as sns\n",
    "import matplotlib.pyplot as plt"
   ]
  },
  {
   "cell_type": "code",
   "execution_count": 3,
   "metadata": {
    "colab": {
     "base_uri": "https://localhost:8080/",
     "height": 296
    },
    "executionInfo": {
     "elapsed": 2081,
     "status": "ok",
     "timestamp": 1626169589203,
     "user": {
      "displayName": "Kevin Karobia",
      "photoUrl": "",
      "userId": "11620910033834049837"
     },
     "user_tz": -180
    },
    "id": "f1d57c38",
    "outputId": "cd07542f-cbd6-487d-b4c8-f7374122b80b"
   },
   "outputs": [
    {
     "data": {
      "text/html": [
       "<div>\n",
       "<style scoped>\n",
       "    .dataframe tbody tr th:only-of-type {\n",
       "        vertical-align: middle;\n",
       "    }\n",
       "\n",
       "    .dataframe tbody tr th {\n",
       "        vertical-align: top;\n",
       "    }\n",
       "\n",
       "    .dataframe thead th {\n",
       "        text-align: right;\n",
       "    }\n",
       "</style>\n",
       "<table border=\"1\" class=\"dataframe\">\n",
       "  <thead>\n",
       "    <tr style=\"text-align: right;\">\n",
       "      <th></th>\n",
       "      <th>Bearer Id</th>\n",
       "      <th>Start</th>\n",
       "      <th>Start ms</th>\n",
       "      <th>End</th>\n",
       "      <th>End ms</th>\n",
       "      <th>Dur. (ms)</th>\n",
       "      <th>IMSI</th>\n",
       "      <th>MSISDN/Number</th>\n",
       "      <th>IMEI</th>\n",
       "      <th>Last Location Name</th>\n",
       "      <th>...</th>\n",
       "      <th>Youtube DL (Bytes)</th>\n",
       "      <th>Youtube UL (Bytes)</th>\n",
       "      <th>Netflix DL (Bytes)</th>\n",
       "      <th>Netflix UL (Bytes)</th>\n",
       "      <th>Gaming DL (Bytes)</th>\n",
       "      <th>Gaming UL (Bytes)</th>\n",
       "      <th>Other DL (Bytes)</th>\n",
       "      <th>Other UL (Bytes)</th>\n",
       "      <th>Total UL (Bytes)</th>\n",
       "      <th>Total DL (Bytes)</th>\n",
       "    </tr>\n",
       "  </thead>\n",
       "  <tbody>\n",
       "    <tr>\n",
       "      <th>0</th>\n",
       "      <td>1.311448e+19</td>\n",
       "      <td>4/4/2019 12:01</td>\n",
       "      <td>770.0</td>\n",
       "      <td>4/25/2019 14:35</td>\n",
       "      <td>662.0</td>\n",
       "      <td>1823652.0</td>\n",
       "      <td>2.082014e+14</td>\n",
       "      <td>3.366496e+10</td>\n",
       "      <td>3.552121e+13</td>\n",
       "      <td>9.16456699548519E+015</td>\n",
       "      <td>...</td>\n",
       "      <td>15854611.0</td>\n",
       "      <td>2501332.0</td>\n",
       "      <td>8198936.0</td>\n",
       "      <td>9656251.0</td>\n",
       "      <td>278082303.0</td>\n",
       "      <td>14344150.0</td>\n",
       "      <td>171744450.0</td>\n",
       "      <td>8814393.0</td>\n",
       "      <td>36749741.0</td>\n",
       "      <td>308879636.0</td>\n",
       "    </tr>\n",
       "    <tr>\n",
       "      <th>1</th>\n",
       "      <td>1.311448e+19</td>\n",
       "      <td>4/9/2019 13:04</td>\n",
       "      <td>235.0</td>\n",
       "      <td>4/25/2019 8:15</td>\n",
       "      <td>606.0</td>\n",
       "      <td>1365104.0</td>\n",
       "      <td>2.082019e+14</td>\n",
       "      <td>3.368185e+10</td>\n",
       "      <td>3.579401e+13</td>\n",
       "      <td>L77566A</td>\n",
       "      <td>...</td>\n",
       "      <td>20247395.0</td>\n",
       "      <td>19111729.0</td>\n",
       "      <td>18338413.0</td>\n",
       "      <td>17227132.0</td>\n",
       "      <td>608750074.0</td>\n",
       "      <td>1170709.0</td>\n",
       "      <td>526904238.0</td>\n",
       "      <td>15055145.0</td>\n",
       "      <td>53800391.0</td>\n",
       "      <td>653384965.0</td>\n",
       "    </tr>\n",
       "    <tr>\n",
       "      <th>2</th>\n",
       "      <td>1.311448e+19</td>\n",
       "      <td>4/9/2019 17:42</td>\n",
       "      <td>1.0</td>\n",
       "      <td>4/25/2019 11:58</td>\n",
       "      <td>652.0</td>\n",
       "      <td>1361762.0</td>\n",
       "      <td>2.082003e+14</td>\n",
       "      <td>3.376063e+10</td>\n",
       "      <td>3.528151e+13</td>\n",
       "      <td>D42335A</td>\n",
       "      <td>...</td>\n",
       "      <td>19725661.0</td>\n",
       "      <td>14699576.0</td>\n",
       "      <td>17587794.0</td>\n",
       "      <td>6163408.0</td>\n",
       "      <td>229584621.0</td>\n",
       "      <td>395630.0</td>\n",
       "      <td>410692588.0</td>\n",
       "      <td>4215763.0</td>\n",
       "      <td>27883638.0</td>\n",
       "      <td>279807335.0</td>\n",
       "    </tr>\n",
       "    <tr>\n",
       "      <th>3</th>\n",
       "      <td>1.311448e+19</td>\n",
       "      <td>4/10/2019 0:31</td>\n",
       "      <td>486.0</td>\n",
       "      <td>4/25/2019 7:36</td>\n",
       "      <td>171.0</td>\n",
       "      <td>1321509.0</td>\n",
       "      <td>2.082014e+14</td>\n",
       "      <td>3.375034e+10</td>\n",
       "      <td>3.535661e+13</td>\n",
       "      <td>T21824A</td>\n",
       "      <td>...</td>\n",
       "      <td>21388122.0</td>\n",
       "      <td>15146643.0</td>\n",
       "      <td>13994646.0</td>\n",
       "      <td>1097942.0</td>\n",
       "      <td>799538153.0</td>\n",
       "      <td>10849722.0</td>\n",
       "      <td>749039933.0</td>\n",
       "      <td>12797283.0</td>\n",
       "      <td>43324218.0</td>\n",
       "      <td>846028530.0</td>\n",
       "    </tr>\n",
       "    <tr>\n",
       "      <th>4</th>\n",
       "      <td>1.311448e+19</td>\n",
       "      <td>4/12/2019 20:10</td>\n",
       "      <td>565.0</td>\n",
       "      <td>4/25/2019 10:40</td>\n",
       "      <td>954.0</td>\n",
       "      <td>1089009.0</td>\n",
       "      <td>2.082014e+14</td>\n",
       "      <td>3.369980e+10</td>\n",
       "      <td>3.540701e+13</td>\n",
       "      <td>D88865A</td>\n",
       "      <td>...</td>\n",
       "      <td>15259380.0</td>\n",
       "      <td>18962873.0</td>\n",
       "      <td>17124581.0</td>\n",
       "      <td>415218.0</td>\n",
       "      <td>527707248.0</td>\n",
       "      <td>3529801.0</td>\n",
       "      <td>550709500.0</td>\n",
       "      <td>13910322.0</td>\n",
       "      <td>38542814.0</td>\n",
       "      <td>569138589.0</td>\n",
       "    </tr>\n",
       "  </tbody>\n",
       "</table>\n",
       "<p>5 rows × 55 columns</p>\n",
       "</div>"
      ],
      "text/plain": [
       "      Bearer Id            Start  Start ms              End  End ms  \\\n",
       "0  1.311448e+19   4/4/2019 12:01     770.0  4/25/2019 14:35   662.0   \n",
       "1  1.311448e+19   4/9/2019 13:04     235.0   4/25/2019 8:15   606.0   \n",
       "2  1.311448e+19   4/9/2019 17:42       1.0  4/25/2019 11:58   652.0   \n",
       "3  1.311448e+19   4/10/2019 0:31     486.0   4/25/2019 7:36   171.0   \n",
       "4  1.311448e+19  4/12/2019 20:10     565.0  4/25/2019 10:40   954.0   \n",
       "\n",
       "   Dur. (ms)          IMSI  MSISDN/Number          IMEI  \\\n",
       "0  1823652.0  2.082014e+14   3.366496e+10  3.552121e+13   \n",
       "1  1365104.0  2.082019e+14   3.368185e+10  3.579401e+13   \n",
       "2  1361762.0  2.082003e+14   3.376063e+10  3.528151e+13   \n",
       "3  1321509.0  2.082014e+14   3.375034e+10  3.535661e+13   \n",
       "4  1089009.0  2.082014e+14   3.369980e+10  3.540701e+13   \n",
       "\n",
       "      Last Location Name  ...  Youtube DL (Bytes)  Youtube UL (Bytes)  \\\n",
       "0  9.16456699548519E+015  ...          15854611.0           2501332.0   \n",
       "1                L77566A  ...          20247395.0          19111729.0   \n",
       "2                D42335A  ...          19725661.0          14699576.0   \n",
       "3                T21824A  ...          21388122.0          15146643.0   \n",
       "4                D88865A  ...          15259380.0          18962873.0   \n",
       "\n",
       "   Netflix DL (Bytes)  Netflix UL (Bytes)  Gaming DL (Bytes)  \\\n",
       "0           8198936.0           9656251.0        278082303.0   \n",
       "1          18338413.0          17227132.0        608750074.0   \n",
       "2          17587794.0           6163408.0        229584621.0   \n",
       "3          13994646.0           1097942.0        799538153.0   \n",
       "4          17124581.0            415218.0        527707248.0   \n",
       "\n",
       "   Gaming UL (Bytes)  Other DL (Bytes)  Other UL (Bytes)  Total UL (Bytes)  \\\n",
       "0         14344150.0       171744450.0         8814393.0        36749741.0   \n",
       "1          1170709.0       526904238.0        15055145.0        53800391.0   \n",
       "2           395630.0       410692588.0         4215763.0        27883638.0   \n",
       "3         10849722.0       749039933.0        12797283.0        43324218.0   \n",
       "4          3529801.0       550709500.0        13910322.0        38542814.0   \n",
       "\n",
       "   Total DL (Bytes)  \n",
       "0       308879636.0  \n",
       "1       653384965.0  \n",
       "2       279807335.0  \n",
       "3       846028530.0  \n",
       "4       569138589.0  \n",
       "\n",
       "[5 rows x 55 columns]"
      ]
     },
     "execution_count": 3,
     "metadata": {},
     "output_type": "execute_result"
    }
   ],
   "source": [
    "db = pd.read_csv('../data/Week1_challenge_data_source(CSV).csv', na_values=['?', None])\n",
    "db.head()"
   ]
  },
  {
   "cell_type": "markdown",
   "metadata": {
    "id": "4428adf1"
   },
   "source": [
    "listing column names"
   ]
  },
  {
   "cell_type": "code",
   "execution_count": 4,
   "metadata": {
    "colab": {
     "base_uri": "https://localhost:8080/"
    },
    "executionInfo": {
     "elapsed": 35,
     "status": "ok",
     "timestamp": 1626169589206,
     "user": {
      "displayName": "Kevin Karobia",
      "photoUrl": "",
      "userId": "11620910033834049837"
     },
     "user_tz": -180
    },
    "id": "d3d9e577",
    "outputId": "6aff993d-58f0-4136-a976-a623608e307d",
    "scrolled": true
   },
   "outputs": [
    {
     "data": {
      "text/plain": [
       "['Bearer Id',\n",
       " 'Start',\n",
       " 'Start ms',\n",
       " 'End',\n",
       " 'End ms',\n",
       " 'Dur. (ms)',\n",
       " 'IMSI',\n",
       " 'MSISDN/Number',\n",
       " 'IMEI',\n",
       " 'Last Location Name',\n",
       " 'Avg RTT DL (ms)',\n",
       " 'Avg RTT UL (ms)',\n",
       " 'Avg Bearer TP DL (kbps)',\n",
       " 'Avg Bearer TP UL (kbps)',\n",
       " 'TCP DL Retrans. Vol (Bytes)',\n",
       " 'TCP UL Retrans. Vol (Bytes)',\n",
       " 'DL TP < 50 Kbps (%)',\n",
       " '50 Kbps < DL TP < 250 Kbps (%)',\n",
       " '250 Kbps < DL TP < 1 Mbps (%)',\n",
       " 'DL TP > 1 Mbps (%)',\n",
       " 'UL TP < 10 Kbps (%)',\n",
       " '10 Kbps < UL TP < 50 Kbps (%)',\n",
       " '50 Kbps < UL TP < 300 Kbps (%)',\n",
       " 'UL TP > 300 Kbps (%)',\n",
       " 'HTTP DL (Bytes)',\n",
       " 'HTTP UL (Bytes)',\n",
       " 'Activity Duration DL (ms)',\n",
       " 'Activity Duration UL (ms)',\n",
       " 'Dur. (ms).1',\n",
       " 'Handset Manufacturer',\n",
       " 'Handset Type',\n",
       " 'Nb of sec with 125000B < Vol DL',\n",
       " 'Nb of sec with 1250B < Vol UL < 6250B',\n",
       " 'Nb of sec with 31250B < Vol DL < 125000B',\n",
       " 'Nb of sec with 37500B < Vol UL',\n",
       " 'Nb of sec with 6250B < Vol DL < 31250B',\n",
       " 'Nb of sec with 6250B < Vol UL < 37500B',\n",
       " 'Nb of sec with Vol DL < 6250B',\n",
       " 'Nb of sec with Vol UL < 1250B',\n",
       " 'Social Media DL (Bytes)',\n",
       " 'Social Media UL (Bytes)',\n",
       " 'Google DL (Bytes)',\n",
       " 'Google UL (Bytes)',\n",
       " 'Email DL (Bytes)',\n",
       " 'Email UL (Bytes)',\n",
       " 'Youtube DL (Bytes)',\n",
       " 'Youtube UL (Bytes)',\n",
       " 'Netflix DL (Bytes)',\n",
       " 'Netflix UL (Bytes)',\n",
       " 'Gaming DL (Bytes)',\n",
       " 'Gaming UL (Bytes)',\n",
       " 'Other DL (Bytes)',\n",
       " 'Other UL (Bytes)',\n",
       " 'Total UL (Bytes)',\n",
       " 'Total DL (Bytes)']"
      ]
     },
     "execution_count": 4,
     "metadata": {},
     "output_type": "execute_result"
    }
   ],
   "source": [
    "# column names\n",
    "db.columns.tolist()"
   ]
  },
  {
   "cell_type": "markdown",
   "metadata": {
    "id": "9ee8e8f3"
   },
   "source": [
    "Number of data points "
   ]
  },
  {
   "cell_type": "code",
   "execution_count": 5,
   "metadata": {
    "colab": {
     "base_uri": "https://localhost:8080/"
    },
    "executionInfo": {
     "elapsed": 13,
     "status": "ok",
     "timestamp": 1626169591757,
     "user": {
      "displayName": "Kevin Karobia",
      "photoUrl": "",
      "userId": "11620910033834049837"
     },
     "user_tz": -180
    },
    "id": "1e3e673f",
    "outputId": "911fa16f-7a8d-44ec-efb8-e794a1797f14"
   },
   "outputs": [
    {
     "name": "stdout",
     "output_type": "stream",
     "text": [
      " There are 150001 rows and 55 columns\n"
     ]
    }
   ],
   "source": [
    "# number of data points\n",
    "print(f\" There are {db.shape[0]} rows and {db.shape[1]} columns\")"
   ]
  },
  {
   "cell_type": "markdown",
   "metadata": {
    "id": "2f58547a"
   },
   "source": [
    "## Handling Missing Values"
   ]
  },
  {
   "cell_type": "code",
   "execution_count": 6,
   "metadata": {
    "colab": {
     "base_uri": "https://localhost:8080/"
    },
    "executionInfo": {
     "elapsed": 25,
     "status": "ok",
     "timestamp": 1626169593507,
     "user": {
      "displayName": "Kevin Karobia",
      "photoUrl": "",
      "userId": "11620910033834049837"
     },
     "user_tz": -180
    },
    "id": "67977677",
    "outputId": "8e9d562f-04d4-48a7-bcd0-97f742c5922a"
   },
   "outputs": [
    {
     "name": "stdout",
     "output_type": "stream",
     "text": [
      "The dataset contains 12.5 % missing values.\n"
     ]
    }
   ],
   "source": [
    "# how many missing values exist or better still what is the % of missing values in the dataset?\n",
    "def percent_missing(df):\n",
    "\n",
    "    # Calculate total number of cells in dataframe\n",
    "    totalCells = np.product(df.shape)\n",
    "\n",
    "    # Count number of missing values per column\n",
    "    missingCount = df.isnull().sum()\n",
    "\n",
    "    # Calculate total number of missing values\n",
    "    totalMissing = missingCount.sum()\n",
    "\n",
    "    # Calculate percentage of missing values\n",
    "    print(\"The dataset contains\", round(((totalMissing/totalCells) * 100), 2), \"%\", \"missing values.\")\n",
    "\n",
    "percent_missing(db)"
   ]
  },
  {
   "cell_type": "code",
   "execution_count": 7,
   "metadata": {
    "colab": {
     "base_uri": "https://localhost:8080/"
    },
    "executionInfo": {
     "elapsed": 12,
     "status": "ok",
     "timestamp": 1626169593901,
     "user": {
      "displayName": "Kevin Karobia",
      "photoUrl": "",
      "userId": "11620910033834049837"
     },
     "user_tz": -180
    },
    "id": "33dae472",
    "outputId": "3dd5dfb5-77f5-4a3a-945a-72f034180199",
    "scrolled": true
   },
   "outputs": [
    {
     "data": {
      "text/plain": [
       "Bearer Id                                      991\n",
       "Start                                            1\n",
       "Start ms                                         1\n",
       "End                                              1\n",
       "End ms                                           1\n",
       "Dur. (ms)                                        1\n",
       "IMSI                                           570\n",
       "MSISDN/Number                                 1066\n",
       "IMEI                                           572\n",
       "Last Location Name                            1153\n",
       "Avg RTT DL (ms)                              27829\n",
       "Avg RTT UL (ms)                              27812\n",
       "Avg Bearer TP DL (kbps)                          1\n",
       "Avg Bearer TP UL (kbps)                          1\n",
       "TCP DL Retrans. Vol (Bytes)                  88146\n",
       "TCP UL Retrans. Vol (Bytes)                  96649\n",
       "DL TP < 50 Kbps (%)                            754\n",
       "50 Kbps < DL TP < 250 Kbps (%)                 754\n",
       "250 Kbps < DL TP < 1 Mbps (%)                  754\n",
       "DL TP > 1 Mbps (%)                             754\n",
       "UL TP < 10 Kbps (%)                            792\n",
       "10 Kbps < UL TP < 50 Kbps (%)                  792\n",
       "50 Kbps < UL TP < 300 Kbps (%)                 792\n",
       "UL TP > 300 Kbps (%)                           792\n",
       "HTTP DL (Bytes)                              81474\n",
       "HTTP UL (Bytes)                              81810\n",
       "Activity Duration DL (ms)                        1\n",
       "Activity Duration UL (ms)                        1\n",
       "Dur. (ms).1                                      1\n",
       "Handset Manufacturer                           572\n",
       "Handset Type                                   572\n",
       "Nb of sec with 125000B < Vol DL              97538\n",
       "Nb of sec with 1250B < Vol UL < 6250B        92894\n",
       "Nb of sec with 31250B < Vol DL < 125000B     93586\n",
       "Nb of sec with 37500B < Vol UL              130254\n",
       "Nb of sec with 6250B < Vol DL < 31250B       88317\n",
       "Nb of sec with 6250B < Vol UL < 37500B      111843\n",
       "Nb of sec with Vol DL < 6250B                  755\n",
       "Nb of sec with Vol UL < 1250B                  793\n",
       "Social Media DL (Bytes)                          0\n",
       "Social Media UL (Bytes)                          0\n",
       "Google DL (Bytes)                                0\n",
       "Google UL (Bytes)                                0\n",
       "Email DL (Bytes)                                 0\n",
       "Email UL (Bytes)                                 0\n",
       "Youtube DL (Bytes)                               0\n",
       "Youtube UL (Bytes)                               0\n",
       "Netflix DL (Bytes)                               0\n",
       "Netflix UL (Bytes)                               0\n",
       "Gaming DL (Bytes)                                0\n",
       "Gaming UL (Bytes)                                0\n",
       "Other DL (Bytes)                                 0\n",
       "Other UL (Bytes)                                 0\n",
       "Total UL (Bytes)                                 1\n",
       "Total DL (Bytes)                                 1\n",
       "dtype: int64"
      ]
     },
     "execution_count": 7,
     "metadata": {},
     "output_type": "execute_result"
    }
   ],
   "source": [
    "# Now which column(s) has missing values\n",
    "db.isna().sum()"
   ]
  },
  {
   "cell_type": "markdown",
   "metadata": {
    "id": "d8d4d436"
   },
   "source": [
    "Checking the percentage of each column of missing values"
   ]
  },
  {
   "cell_type": "code",
   "execution_count": 8,
   "metadata": {},
   "outputs": [
    {
     "name": "stdout",
     "output_type": "stream",
     "text": [
      "                                                                       column_name  \\\n",
      "Youtube DL (Bytes)                                              Youtube DL (Bytes)   \n",
      "Other UL (Bytes)                                                  Other UL (Bytes)   \n",
      "Other DL (Bytes)                                                  Other DL (Bytes)   \n",
      "Gaming UL (Bytes)                                                Gaming UL (Bytes)   \n",
      "Gaming DL (Bytes)                                                Gaming DL (Bytes)   \n",
      "Netflix UL (Bytes)                                              Netflix UL (Bytes)   \n",
      "Netflix DL (Bytes)                                              Netflix DL (Bytes)   \n",
      "Youtube UL (Bytes)                                              Youtube UL (Bytes)   \n",
      "Email UL (Bytes)                                                  Email UL (Bytes)   \n",
      "Email DL (Bytes)                                                  Email DL (Bytes)   \n",
      "Google UL (Bytes)                                                Google UL (Bytes)   \n",
      "Google DL (Bytes)                                                Google DL (Bytes)   \n",
      "Social Media UL (Bytes)                                    Social Media UL (Bytes)   \n",
      "Social Media DL (Bytes)                                    Social Media DL (Bytes)   \n",
      "Dur. (ms).1                                                            Dur. (ms).1   \n",
      "Activity Duration UL (ms)                                Activity Duration UL (ms)   \n",
      "Total UL (Bytes)                                                  Total UL (Bytes)   \n",
      "Activity Duration DL (ms)                                Activity Duration DL (ms)   \n",
      "Total DL (Bytes)                                                  Total DL (Bytes)   \n",
      "Avg Bearer TP UL (kbps)                                    Avg Bearer TP UL (kbps)   \n",
      "Avg Bearer TP DL (kbps)                                    Avg Bearer TP DL (kbps)   \n",
      "Dur. (ms)                                                                Dur. (ms)   \n",
      "Start                                                                        Start   \n",
      "Start ms                                                                  Start ms   \n",
      "End ms                                                                      End ms   \n",
      "End                                                                            End   \n",
      "IMSI                                                                          IMSI   \n",
      "IMEI                                                                          IMEI   \n",
      "Handset Type                                                          Handset Type   \n",
      "Handset Manufacturer                                          Handset Manufacturer   \n",
      "DL TP < 50 Kbps (%)                                            DL TP < 50 Kbps (%)   \n",
      "50 Kbps < DL TP < 250 Kbps (%)                      50 Kbps < DL TP < 250 Kbps (%)   \n",
      "250 Kbps < DL TP < 1 Mbps (%)                        250 Kbps < DL TP < 1 Mbps (%)   \n",
      "DL TP > 1 Mbps (%)                                              DL TP > 1 Mbps (%)   \n",
      "Nb of sec with Vol DL < 6250B                        Nb of sec with Vol DL < 6250B   \n",
      "UL TP > 300 Kbps (%)                                          UL TP > 300 Kbps (%)   \n",
      "50 Kbps < UL TP < 300 Kbps (%)                      50 Kbps < UL TP < 300 Kbps (%)   \n",
      "10 Kbps < UL TP < 50 Kbps (%)                        10 Kbps < UL TP < 50 Kbps (%)   \n",
      "UL TP < 10 Kbps (%)                                            UL TP < 10 Kbps (%)   \n",
      "Nb of sec with Vol UL < 1250B                        Nb of sec with Vol UL < 1250B   \n",
      "Bearer Id                                                                Bearer Id   \n",
      "MSISDN/Number                                                        MSISDN/Number   \n",
      "Last Location Name                                              Last Location Name   \n",
      "Avg RTT UL (ms)                                                    Avg RTT UL (ms)   \n",
      "Avg RTT DL (ms)                                                    Avg RTT DL (ms)   \n",
      "HTTP DL (Bytes)                                                    HTTP DL (Bytes)   \n",
      "HTTP UL (Bytes)                                                    HTTP UL (Bytes)   \n",
      "TCP DL Retrans. Vol (Bytes)                            TCP DL Retrans. Vol (Bytes)   \n",
      "Nb of sec with 6250B < Vol DL < 31250B      Nb of sec with 6250B < Vol DL < 31250B   \n",
      "Nb of sec with 1250B < Vol UL < 6250B        Nb of sec with 1250B < Vol UL < 6250B   \n",
      "Nb of sec with 31250B < Vol DL < 125000B  Nb of sec with 31250B < Vol DL < 125000B   \n",
      "TCP UL Retrans. Vol (Bytes)                            TCP UL Retrans. Vol (Bytes)   \n",
      "Nb of sec with 125000B < Vol DL                    Nb of sec with 125000B < Vol DL   \n",
      "Nb of sec with 6250B < Vol UL < 37500B      Nb of sec with 6250B < Vol UL < 37500B   \n",
      "Nb of sec with 37500B < Vol UL                      Nb of sec with 37500B < Vol UL   \n",
      "\n",
      "                                          percent_missing  \n",
      "Youtube DL (Bytes)                               0.000000  \n",
      "Other UL (Bytes)                                 0.000000  \n",
      "Other DL (Bytes)                                 0.000000  \n",
      "Gaming UL (Bytes)                                0.000000  \n",
      "Gaming DL (Bytes)                                0.000000  \n",
      "Netflix UL (Bytes)                               0.000000  \n",
      "Netflix DL (Bytes)                               0.000000  \n",
      "Youtube UL (Bytes)                               0.000000  \n",
      "Email UL (Bytes)                                 0.000000  \n",
      "Email DL (Bytes)                                 0.000000  \n",
      "Google UL (Bytes)                                0.000000  \n",
      "Google DL (Bytes)                                0.000000  \n",
      "Social Media UL (Bytes)                          0.000000  \n",
      "Social Media DL (Bytes)                          0.000000  \n",
      "Dur. (ms).1                                      0.000667  \n",
      "Activity Duration UL (ms)                        0.000667  \n",
      "Total UL (Bytes)                                 0.000667  \n",
      "Activity Duration DL (ms)                        0.000667  \n",
      "Total DL (Bytes)                                 0.000667  \n",
      "Avg Bearer TP UL (kbps)                          0.000667  \n",
      "Avg Bearer TP DL (kbps)                          0.000667  \n",
      "Dur. (ms)                                        0.000667  \n",
      "Start                                            0.000667  \n",
      "Start ms                                         0.000667  \n",
      "End ms                                           0.000667  \n",
      "End                                              0.000667  \n",
      "IMSI                                             0.379997  \n",
      "IMEI                                             0.381331  \n",
      "Handset Type                                     0.381331  \n",
      "Handset Manufacturer                             0.381331  \n",
      "DL TP < 50 Kbps (%)                              0.502663  \n",
      "50 Kbps < DL TP < 250 Kbps (%)                   0.502663  \n",
      "250 Kbps < DL TP < 1 Mbps (%)                    0.502663  \n",
      "DL TP > 1 Mbps (%)                               0.502663  \n",
      "Nb of sec with Vol DL < 6250B                    0.503330  \n",
      "UL TP > 300 Kbps (%)                             0.527996  \n",
      "50 Kbps < UL TP < 300 Kbps (%)                   0.527996  \n",
      "10 Kbps < UL TP < 50 Kbps (%)                    0.527996  \n",
      "UL TP < 10 Kbps (%)                              0.527996  \n",
      "Nb of sec with Vol UL < 1250B                    0.528663  \n",
      "Bearer Id                                        0.660662  \n",
      "MSISDN/Number                                    0.710662  \n",
      "Last Location Name                               0.768662  \n",
      "Avg RTT UL (ms)                                 18.541210  \n",
      "Avg RTT DL (ms)                                 18.552543  \n",
      "HTTP DL (Bytes)                                 54.315638  \n",
      "HTTP UL (Bytes)                                 54.539636  \n",
      "TCP DL Retrans. Vol (Bytes)                     58.763608  \n",
      "Nb of sec with 6250B < Vol DL < 31250B          58.877607  \n",
      "Nb of sec with 1250B < Vol UL < 6250B           61.928920  \n",
      "Nb of sec with 31250B < Vol DL < 125000B        62.390251  \n",
      "TCP UL Retrans. Vol (Bytes)                     64.432237  \n",
      "Nb of sec with 125000B < Vol DL                 65.024900  \n",
      "Nb of sec with 6250B < Vol UL < 37500B          74.561503  \n",
      "Nb of sec with 37500B < Vol UL                  86.835421  \n"
     ]
    }
   ],
   "source": [
    "# To see the percentage of missing values of every columns\n",
    "def every_column_percent_missing(df):\n",
    "    percent_missing = df.isnull().sum() * 100 / len(df)\n",
    "    missing_value_db = pd.DataFrame({'column_name': df.columns,\n",
    "                                     'percent_missing': percent_missing})\n",
    "\n",
    "    missing_value_db.sort_values('percent_missing', inplace=True)\n",
    "\n",
    "    print(missing_value_db)\n",
    "\n",
    "\n",
    "every_column_percent_missing(db)"
   ]
  },
  {
   "cell_type": "code",
   "execution_count": 9,
   "metadata": {},
   "outputs": [
    {
     "data": {
      "text/plain": [
       "(150001, 45)"
      ]
     },
     "execution_count": 9,
     "metadata": {},
     "output_type": "execute_result"
    }
   ],
   "source": [
    "# drop columns with more than 50% missing values\n",
    "df_clean = db.drop(['HTTP DL (Bytes)', 'HTTP UL (Bytes)', 'TCP DL Retrans. Vol (Bytes)', 'Nb of sec with 6250B < Vol DL < 31250B', 'Nb of sec with 1250B < Vol UL < 6250B', 'Nb of sec with 31250B < Vol DL < 125000B', 'TCP UL Retrans. Vol (Bytes)', 'Nb of sec with 125000B < Vol DL', 'Nb of sec with 6250B < Vol UL < 37500B', 'Nb of sec with 37500B < Vol UL'], axis=1)\n",
    "\n",
    "df_clean.shape"
   ]
  },
  {
   "cell_type": "code",
   "execution_count": 10,
   "metadata": {
    "scrolled": true
   },
   "outputs": [
    {
     "data": {
      "text/plain": [
       "Bearer Id                           991\n",
       "Start                                 1\n",
       "Start ms                              1\n",
       "End                                   1\n",
       "End ms                                1\n",
       "Dur. (ms)                             1\n",
       "IMSI                                570\n",
       "MSISDN/Number                      1066\n",
       "IMEI                                572\n",
       "Last Location Name                 1153\n",
       "Avg RTT DL (ms)                   27829\n",
       "Avg RTT UL (ms)                   27812\n",
       "Avg Bearer TP DL (kbps)               1\n",
       "Avg Bearer TP UL (kbps)               1\n",
       "DL TP < 50 Kbps (%)                 754\n",
       "50 Kbps < DL TP < 250 Kbps (%)      754\n",
       "250 Kbps < DL TP < 1 Mbps (%)       754\n",
       "DL TP > 1 Mbps (%)                  754\n",
       "UL TP < 10 Kbps (%)                 792\n",
       "10 Kbps < UL TP < 50 Kbps (%)       792\n",
       "50 Kbps < UL TP < 300 Kbps (%)      792\n",
       "UL TP > 300 Kbps (%)                792\n",
       "Activity Duration DL (ms)             1\n",
       "Activity Duration UL (ms)             1\n",
       "Dur. (ms).1                           1\n",
       "Handset Manufacturer                572\n",
       "Handset Type                        572\n",
       "Nb of sec with Vol DL < 6250B       755\n",
       "Nb of sec with Vol UL < 1250B       793\n",
       "Social Media DL (Bytes)               0\n",
       "Social Media UL (Bytes)               0\n",
       "Google DL (Bytes)                     0\n",
       "Google UL (Bytes)                     0\n",
       "Email DL (Bytes)                      0\n",
       "Email UL (Bytes)                      0\n",
       "Youtube DL (Bytes)                    0\n",
       "Youtube UL (Bytes)                    0\n",
       "Netflix DL (Bytes)                    0\n",
       "Netflix UL (Bytes)                    0\n",
       "Gaming DL (Bytes)                     0\n",
       "Gaming UL (Bytes)                     0\n",
       "Other DL (Bytes)                      0\n",
       "Other UL (Bytes)                      0\n",
       "Total UL (Bytes)                      1\n",
       "Total DL (Bytes)                      1\n",
       "dtype: int64"
      ]
     },
     "execution_count": 10,
     "metadata": {},
     "output_type": "execute_result"
    }
   ],
   "source": [
    "df_clean.isna().sum()"
   ]
  },
  {
   "cell_type": "code",
   "execution_count": 11,
   "metadata": {},
   "outputs": [
    {
     "name": "stdout",
     "output_type": "stream",
     "text": [
      "The dataset contains 1.02 % missing values.\n"
     ]
    }
   ],
   "source": [
    "# how many missing values exist on the new cleaned dataset on percentage ?\n",
    "\n",
    "percent_missing(df_clean)\n"
   ]
  },
  {
   "cell_type": "code",
   "execution_count": 12,
   "metadata": {},
   "outputs": [],
   "source": [
    "#Dealing missing values exists like fill-forward,backward-fill"
   ]
  },
  {
   "cell_type": "code",
   "execution_count": 13,
   "metadata": {},
   "outputs": [],
   "source": [
    "#df_clean['# fill missing with ffill method for columns ()\n",
    "\n",
    "def fix_missing_ffill(df, col):\n",
    "    df[col] = df[col].fillna(method='ffill')\n",
    "    return df[col]\n",
    "\n",
    "\n",
    "def fix_missing_bfill(df, col):\n",
    "    df[col] = df[col].fillna(method='bfill')\n",
    "    return df[col]\n",
    "\n",
    "df_clean['Dur. (ms).1'] = fix_missing_ffill(df_clean, 'Dur. (ms).1')\n",
    "df_clean['Activity Duration DL (ms)'] = fix_missing_ffill(df_clean, 'Activity Duration DL (ms)')\n",
    "df_clean['Activity Duration UL (ms)'] = fix_missing_ffill(df_clean, 'Activity Duration UL (ms)')\n",
    "df_clean['Total UL (Bytes)'] = fix_missing_ffill(df_clean, 'Total UL (Bytes)')\n",
    "df_clean['Total DL (Bytes)'] = fix_missing_ffill(df_clean, 'Total DL (Bytes)')\n",
    "df_clean['Avg Bearer TP DL (kbps)'] = fix_missing_ffill(df_clean, 'Avg Bearer TP DL (kbps)')\n",
    "df_clean['Start'] = fix_missing_ffill(df_clean, 'Start')\n",
    "df_clean['Start ms'] = fix_missing_ffill(df_clean, 'Start ms')\n",
    "df_clean['End'] = fix_missing_ffill(df_clean, 'End')\n",
    "df_clean['Avg Bearer TP UL (kbps)'] = fix_missing_ffill(df_clean, 'Avg Bearer TP UL (kbps)')\n",
    "df_clean['End ms'] = fix_missing_ffill(df_clean, 'End ms')\n",
    "df_clean['Dur. (ms)'] = fix_missing_ffill(df_clean, 'Dur. (ms)')\n",
    "df_clean['IMSI'] = fix_missing_ffill(df_clean, 'IMSI')\n",
    "df_clean['DL TP > 1 Mbps (%)'] = fix_missing_ffill(df_clean, 'DL TP > 1 Mbps (%)')\n",
    "df_clean['250 Kbps < DL TP < 1 Mbps (%)'] = fix_missing_ffill(df_clean, '250 Kbps < DL TP < 1 Mbps (%)')\n",
    "df_clean['50 Kbps < DL TP < 250 Kbps (%)'] = fix_missing_ffill(df_clean, '50 Kbps < DL TP < 250 Kbps (%)')\n",
    "df_clean['DL TP < 50 Kbps (%)'] = fix_missing_ffill(df_clean, 'DL TP < 50 Kbps (%)')\n",
    "df_clean['Nb of sec with Vol DL < 6250B'] = fix_missing_ffill(df_clean, 'Nb of sec with Vol DL < 6250B')\n",
    "df_clean['10 Kbps < UL TP < 50 Kbps (%)'] = fix_missing_ffill(df_clean, '10 Kbps < UL TP < 50 Kbps (%)')\n",
    "df_clean['UL TP < 10 Kbps (%)'] = fix_missing_ffill(df_clean, 'UL TP < 10 Kbps (%)')\n",
    "df_clean['UL TP > 300 Kbps (%)'] = fix_missing_ffill(df_clean, 'UL TP > 300 Kbps (%)')\n",
    "df_clean['50 Kbps < UL TP < 300 Kbps (%)'] = fix_missing_ffill(df_clean, '50 Kbps < UL TP < 300 Kbps (%)')\n",
    "df_clean['Nb of sec with Vol UL < 1250B'] = fix_missing_ffill(df_clean, 'Nb of sec with Vol UL < 1250B')\n",
    "df_clean['Bearer Id'] = fix_missing_ffill(df_clean, 'Bearer Id')\n",
    "df_clean['Last Location Name'] = fix_missing_ffill(df_clean, 'Last Location Name')\n",
    "\n",
    "# fill 'Handset Type, Handset Manufacturer, IMEI & MSISDN/Number' column with mode \n",
    "df_clean['Handset Manufacturer'] = df_clean['Handset Manufacturer'].fillna(df_clean['Handset Manufacturer'].mode()[0])\n",
    "df_clean['Handset Type'] = df_clean['Handset Type'].fillna(df_clean['Handset Type'].mode()[0])\n",
    "df_clean['IMEI'] = df_clean['IMEI'].fillna(df_clean['IMEI'].mode()[0])\n",
    "df_clean['MSISDN/Number'] = df_clean['MSISDN/Number'].fillna(df_clean['MSISDN/Number'].mode()[0])\n"
   ]
  },
  {
   "cell_type": "markdown",
   "metadata": {
    "id": "2f92e917"
   },
   "source": [
    "## Transforming Data\n",
    "\n",
    "**Scaling and Normalization**"
   ]
  },
  {
   "cell_type": "code",
   "execution_count": 14,
   "metadata": {
    "colab": {
     "base_uri": "https://localhost:8080/",
     "height": 206
    },
    "executionInfo": {
     "elapsed": 33,
     "status": "ok",
     "timestamp": 1626169602345,
     "user": {
      "displayName": "Kevin Karobia",
      "photoUrl": "",
      "userId": "11620910033834049837"
     },
     "user_tz": -180
    },
    "id": "4db69c6f",
    "outputId": "492c9061-e9b3-49ee-8499-23259cd863e6"
   },
   "outputs": [
    {
     "data": {
      "text/html": [
       "<div>\n",
       "<style scoped>\n",
       "    .dataframe tbody tr th:only-of-type {\n",
       "        vertical-align: middle;\n",
       "    }\n",
       "\n",
       "    .dataframe tbody tr th {\n",
       "        vertical-align: top;\n",
       "    }\n",
       "\n",
       "    .dataframe thead th {\n",
       "        text-align: right;\n",
       "    }\n",
       "</style>\n",
       "<table border=\"1\" class=\"dataframe\">\n",
       "  <thead>\n",
       "    <tr style=\"text-align: right;\">\n",
       "      <th></th>\n",
       "      <th>0</th>\n",
       "    </tr>\n",
       "  </thead>\n",
       "  <tbody>\n",
       "    <tr>\n",
       "      <th>1624</th>\n",
       "      <td>132.101967</td>\n",
       "    </tr>\n",
       "    <tr>\n",
       "      <th>671</th>\n",
       "      <td>330.481246</td>\n",
       "    </tr>\n",
       "    <tr>\n",
       "      <th>857</th>\n",
       "      <td>513.262838</td>\n",
       "    </tr>\n",
       "    <tr>\n",
       "      <th>1655</th>\n",
       "      <td>9.862692</td>\n",
       "    </tr>\n",
       "    <tr>\n",
       "      <th>1342</th>\n",
       "      <td>772.620158</td>\n",
       "    </tr>\n",
       "  </tbody>\n",
       "</table>\n",
       "</div>"
      ],
      "text/plain": [
       "               0\n",
       "1624  132.101967\n",
       "671   330.481246\n",
       "857   513.262838\n",
       "1655    9.862692\n",
       "1342  772.620158"
      ]
     },
     "execution_count": 14,
     "metadata": {},
     "output_type": "execute_result"
    }
   ],
   "source": [
    "from sklearn.preprocessing import MinMaxScaler\n",
    "\n",
    "minmax_scaler = MinMaxScaler()\n",
    "\n",
    "# generate 1000 data points randomly drawn from an exponential distribution\n",
    "original_data = pd.DataFrame(np.random.exponential(200, size=2000))\n",
    "\n",
    "original_data.sample(5)"
   ]
  },
  {
   "cell_type": "code",
   "execution_count": 15,
   "metadata": {
    "colab": {
     "base_uri": "https://localhost:8080/"
    },
    "executionInfo": {
     "elapsed": 31,
     "status": "ok",
     "timestamp": 1626169602347,
     "user": {
      "displayName": "Kevin Karobia",
      "photoUrl": "",
      "userId": "11620910033834049837"
     },
     "user_tz": -180
    },
    "id": "887126c7",
    "outputId": "2b065ca4-2508-47b7-a915-dafdb4f0a385"
   },
   "outputs": [
    {
     "data": {
      "text/plain": [
       "(0.059005886800793786, 1462.0509009446907)"
      ]
     },
     "execution_count": 15,
     "metadata": {},
     "output_type": "execute_result"
    }
   ],
   "source": [
    "original_data[0].min(), original_data[0].max()"
   ]
  },
  {
   "cell_type": "code",
   "execution_count": 16,
   "metadata": {
    "colab": {
     "base_uri": "https://localhost:8080/",
     "height": 265
    },
    "executionInfo": {
     "elapsed": 47646,
     "status": "ok",
     "timestamp": 1626169651337,
     "user": {
      "displayName": "Kevin Karobia",
      "photoUrl": "",
      "userId": "11620910033834049837"
     },
     "user_tz": -180
    },
    "id": "2c7ac099",
    "outputId": "7174aa3f-5c28-4462-bdb9-0df8653a6d17"
   },
   "outputs": [
    {
     "data": {
      "image/png": "[encoded data removed]",
      "text/plain": [
       "<Figure size 432x288 with 1 Axes>"
      ]
     },
     "metadata": {
      "needs_background": "light"
     },
     "output_type": "display_data"
    }
   ],
   "source": [
    "count, bins, ignored = plt.hist(original_data, 14)\n",
    "plt.show()"
   ]
  },
  {
   "cell_type": "code",
   "execution_count": 17,
   "metadata": {
    "colab": {
     "base_uri": "https://localhost:8080/",
     "height": 390
    },
    "executionInfo": {
     "elapsed": 1252,
     "status": "ok",
     "timestamp": 1626169653704,
     "user": {
      "displayName": "Kevin Karobia",
      "photoUrl": "",
      "userId": "11620910033834049837"
     },
     "user_tz": -180
    },
    "id": "f72facb7",
    "outputId": "0a9f07df-862f-4aa4-99bf-9d822f043557"
   },
   "outputs": [
    {
     "data": {
      "image/png": "[encoded data removed]",
      "text/plain": [
       "<Figure size 720x432 with 2 Axes>"
      ]
     },
     "metadata": {
      "needs_background": "light"
     },
     "output_type": "display_data"
    }
   ],
   "source": [
    "# mix-max scale the data between 0 and 1\n",
    "def scaler(df):\n",
    "    scaled_data = minmax_scaler.fit_transform(df)\n",
    "\n",
    "    # plot both together to compare\n",
    "    fig, ax = plt.subplots(1,2, figsize=(10, 6))\n",
    "    sns.histplot(original_data, ax=ax[0])\n",
    "    ax[0].set_title(\"Original Data\")\n",
    "    sns.histplot(scaled_data, ax=ax[1])\n",
    "    ax[1].set_title(\"Scaled data\")\n",
    "    \n",
    "scaler(original_data)"
   ]
  },
  {
   "cell_type": "code",
   "execution_count": 18,
   "metadata": {
    "colab": {
     "base_uri": "https://localhost:8080/",
     "height": 390
    },
    "executionInfo": {
     "elapsed": 460,
     "status": "ok",
     "timestamp": 1626169654145,
     "user": {
      "displayName": "Kevin Karobia",
      "photoUrl": "",
      "userId": "11620910033834049837"
     },
     "user_tz": -180
    },
    "id": "168acc4d",
    "outputId": "498cf3f0-697e-4aab-f986-1f37c54c9df8"
   },
   "outputs": [
    {
     "data": {
      "image/png": "[encoded data removed]",
      "text/plain": [
       "<Figure size 720x432 with 2 Axes>"
      ]
     },
     "metadata": {
      "needs_background": "light"
     },
     "output_type": "display_data"
    }
   ],
   "source": [
    "from sklearn.preprocessing import Normalizer\n",
    "\n",
    "def normalizer(df):\n",
    "    norm = Normalizer()\n",
    "    # normalize the exponential data with boxcox\n",
    "    normalized_data = norm.fit_transform(df)\n",
    "\n",
    "    # plot both together to compare\n",
    "    fig, ax=plt.subplots(1,2, figsize=(10, 6))\n",
    "    sns.histplot(df, ax=ax[0])\n",
    "    ax[0].set_title(\"Original Data\")\n",
    "    sns.histplot(normalized_data[0], ax=ax[1])\n",
    "    ax[1].set_title(\"Normalized data\")\n",
    "\n",
    "normalizer(original_data)"
   ]
  },
  {
   "cell_type": "code",
   "execution_count": 19,
   "metadata": {
    "colab": {
     "base_uri": "https://localhost:8080/"
    },
    "executionInfo": {
     "elapsed": 29,
     "status": "ok",
     "timestamp": 1626169654147,
     "user": {
      "displayName": "Kevin Karobia",
      "photoUrl": "",
      "userId": "11620910033834049837"
     },
     "user_tz": -180
    },
    "id": "2943df05",
    "outputId": "f7192dec-fc2b-4036-f917-5a37ca952fde"
   },
   "outputs": [
    {
     "name": "stdout",
     "output_type": "stream",
     "text": [
      "<class 'pandas.core.frame.DataFrame'>\n",
      "RangeIndex: 150001 entries, 0 to 150000\n",
      "Data columns (total 45 columns):\n",
      " #   Column                          Non-Null Count   Dtype  \n",
      "---  ------                          --------------   -----  \n",
      " 0   Bearer Id                       150001 non-null  float64\n",
      " 1   Start                           150001 non-null  object \n",
      " 2   Start ms                        150001 non-null  float64\n",
      " 3   End                             150001 non-null  object \n",
      " 4   End ms                          150001 non-null  float64\n",
      " 5   Dur. (ms)                       150001 non-null  float64\n",
      " 6   IMSI                            150001 non-null  float64\n",
      " 7   MSISDN/Number                   150001 non-null  float64\n",
      " 8   IMEI                            150001 non-null  float64\n",
      " 9   Last Location Name              150001 non-null  object \n",
      " 10  Avg RTT DL (ms)                 122172 non-null  float64\n",
      " 11  Avg RTT UL (ms)                 122189 non-null  float64\n",
      " 12  Avg Bearer TP DL (kbps)         150001 non-null  float64\n",
      " 13  Avg Bearer TP UL (kbps)         150001 non-null  float64\n",
      " 14  DL TP < 50 Kbps (%)             150001 non-null  float64\n",
      " 15  50 Kbps < DL TP < 250 Kbps (%)  150001 non-null  float64\n",
      " 16  250 Kbps < DL TP < 1 Mbps (%)   150001 non-null  float64\n",
      " 17  DL TP > 1 Mbps (%)              150001 non-null  float64\n",
      " 18  UL TP < 10 Kbps (%)             150001 non-null  float64\n",
      " 19  10 Kbps < UL TP < 50 Kbps (%)   150001 non-null  float64\n",
      " 20  50 Kbps < UL TP < 300 Kbps (%)  150001 non-null  float64\n",
      " 21  UL TP > 300 Kbps (%)            150001 non-null  float64\n",
      " 22  Activity Duration DL (ms)       150001 non-null  float64\n",
      " 23  Activity Duration UL (ms)       150001 non-null  float64\n",
      " 24  Dur. (ms).1                     150001 non-null  float64\n",
      " 25  Handset Manufacturer            150001 non-null  object \n",
      " 26  Handset Type                    150001 non-null  object \n",
      " 27  Nb of sec with Vol DL < 6250B   150001 non-null  float64\n",
      " 28  Nb of sec with Vol UL < 1250B   150001 non-null  float64\n",
      " 29  Social Media DL (Bytes)         150001 non-null  float64\n",
      " 30  Social Media UL (Bytes)         150001 non-null  float64\n",
      " 31  Google DL (Bytes)               150001 non-null  float64\n",
      " 32  Google UL (Bytes)               150001 non-null  float64\n",
      " 33  Email DL (Bytes)                150001 non-null  float64\n",
      " 34  Email UL (Bytes)                150001 non-null  float64\n",
      " 35  Youtube DL (Bytes)              150001 non-null  float64\n",
      " 36  Youtube UL (Bytes)              150001 non-null  float64\n",
      " 37  Netflix DL (Bytes)              150001 non-null  float64\n",
      " 38  Netflix UL (Bytes)              150001 non-null  float64\n",
      " 39  Gaming DL (Bytes)               150001 non-null  float64\n",
      " 40  Gaming UL (Bytes)               150001 non-null  float64\n",
      " 41  Other DL (Bytes)                150001 non-null  float64\n",
      " 42  Other UL (Bytes)                150001 non-null  float64\n",
      " 43  Total UL (Bytes)                150001 non-null  float64\n",
      " 44  Total DL (Bytes)                150001 non-null  float64\n",
      "dtypes: float64(40), object(5)\n",
      "memory usage: 51.5+ MB\n"
     ]
    }
   ],
   "source": [
    "# check datatypes\n",
    "df_clean.info()"
   ]
  },
  {
   "cell_type": "code",
   "execution_count": 20,
   "metadata": {},
   "outputs": [
    {
     "data": {
      "text/html": [
       "<h2> Identify the top 10 handsets used by the customers</h2>"
      ],
      "text/plain": [
       "<IPython.core.display.HTML object>"
      ]
     },
     "metadata": {},
     "output_type": "display_data"
    }
   ],
   "source": [
    "display(HTML('<h2> Identify the top 10 handsets used by the customers</h2>'))\n"
   ]
  },
  {
   "cell_type": "code",
   "execution_count": 21,
   "metadata": {
    "colab": {
     "base_uri": "https://localhost:8080/"
    },
    "executionInfo": {
     "elapsed": 493,
     "status": "ok",
     "timestamp": 1626169654973,
     "user": {
      "displayName": "Kevin Karobia",
      "photoUrl": "",
      "userId": "11620910033834049837"
     },
     "user_tz": -180
    },
    "id": "bef899e2",
    "outputId": "4b5e0d87-3f09-4dcf-82ff-674ce443f942"
   },
   "outputs": [
    {
     "data": {
      "text/plain": [
       "Apple      60137\n",
       "Samsung    40839\n",
       "Huawei     34423\n",
       "Name: Handset Manufacturer, dtype: int64"
      ]
     },
     "execution_count": 21,
     "metadata": {},
     "output_type": "execute_result"
    }
   ],
   "source": [
    "#Counting Handset Manufacturers\n",
    "\n",
    "top3 = df_clean['Handset Manufacturer'].value_counts().head(3)\n",
    "top3\n"
   ]
  },
  {
   "cell_type": "code",
   "execution_count": 22,
   "metadata": {},
   "outputs": [
    {
     "data": {
      "text/plain": [
       "<AxesSubplot:ylabel='Handset Manufacturer'>"
      ]
     },
     "execution_count": 22,
     "metadata": {},
     "output_type": "execute_result"
    },
    {
     "data": {
      "image/png": "[encoded data removed]",
      "text/plain": [
       "<Figure size 432x288 with 1 Axes>"
      ]
     },
     "metadata": {},
     "output_type": "display_data"
    }
   ],
   "source": [
    "#visualising using pie chart\n",
    "top3.plot.pie()"
   ]
  },
  {
   "cell_type": "code",
   "execution_count": 23,
   "metadata": {},
   "outputs": [
    {
     "data": {
      "text/html": [
       "<h2> Identify the top 3 handset manufacturers</h2>"
      ],
      "text/plain": [
       "<IPython.core.display.HTML object>"
      ]
     },
     "metadata": {},
     "output_type": "display_data"
    }
   ],
   "source": [
    "display(HTML('<h2> Identify the top 3 handset manufacturers</h2>'))\n"
   ]
  },
  {
   "cell_type": "code",
   "execution_count": 24,
   "metadata": {},
   "outputs": [
    {
     "data": {
      "text/plain": [
       "Huawei B528S-23A                20324\n",
       "Apple iPhone 6S (A1688)          9419\n",
       "Apple iPhone 6 (A1586)           9023\n",
       "undefined                        8987\n",
       "Apple iPhone 7 (A1778)           6326\n",
       "Apple iPhone Se (A1723)          5187\n",
       "Apple iPhone 8 (A1905)           4993\n",
       "Apple iPhone Xr (A2105)          4568\n",
       "Samsung Galaxy S8 (Sm-G950F)     4520\n",
       "Apple iPhone X (A1901)           3813\n",
       "Name: Handset Type, dtype: int64"
      ]
     },
     "execution_count": 24,
     "metadata": {},
     "output_type": "execute_result"
    }
   ],
   "source": [
    "#Counting Handset Types\n",
    "\n",
    "top10 = df_clean['Handset Type'].value_counts().head(10)\n",
    "\n",
    "top10\n"
   ]
  },
  {
   "cell_type": "code",
   "execution_count": 25,
   "metadata": {},
   "outputs": [
    {
     "data": {
      "text/plain": [
       "<AxesSubplot:>"
      ]
     },
     "execution_count": 25,
     "metadata": {},
     "output_type": "execute_result"
    },
    {
     "data": {
      "image/png": "[encoded data removed]",
      "text/plain": [
       "<Figure size 432x288 with 1 Axes>"
      ]
     },
     "metadata": {
      "needs_background": "light"
     },
     "output_type": "display_data"
    }
   ],
   "source": [
    "#Visualising using bar graph\n",
    "top10.plot.bar()"
   ]
  },
  {
   "cell_type": "code",
   "execution_count": 26,
   "metadata": {},
   "outputs": [
    {
     "data": {
      "text/html": [
       "<h2> Identify the top 5 handsets per top 3 handset manufacturer</h2>"
      ],
      "text/plain": [
       "<IPython.core.display.HTML object>"
      ]
     },
     "metadata": {},
     "output_type": "display_data"
    }
   ],
   "source": [
    "display(HTML('<h2> Identify the top 5 handsets per top 3 handset manufacturer</h2>'))"
   ]
  },
  {
   "cell_type": "code",
   "execution_count": 27,
   "metadata": {},
   "outputs": [
    {
     "data": {
      "text/plain": [
       "Handset Type\n",
       "Apple iPhone 6S (A1688)    9419\n",
       "Apple iPhone 6 (A1586)     9023\n",
       "Apple iPhone 7 (A1778)     6326\n",
       "Apple iPhone Se (A1723)    5187\n",
       "Apple iPhone 8 (A1905)     4993\n",
       "Name: Handset Type, dtype: int64"
      ]
     },
     "execution_count": 27,
     "metadata": {},
     "output_type": "execute_result"
    }
   ],
   "source": [
    "#Top 5 apple handsets \n",
    "top_apple = df_clean.groupby('Handset Manufacturer')['Handset Type'].value_counts()['Apple'].head(5)\n",
    "top_apple\n",
    "#top_apple.plot.bar()"
   ]
  },
  {
   "cell_type": "code",
   "execution_count": 28,
   "metadata": {},
   "outputs": [
    {
     "data": {
      "text/plain": [
       "Handset Type\n",
       "Samsung Galaxy S8 (Sm-G950F)    4520\n",
       "Samsung Galaxy A5 Sm-A520F      3724\n",
       "Samsung Galaxy J5 (Sm-J530)     3696\n",
       "Samsung Galaxy J3 (Sm-J330)     3484\n",
       "Samsung Galaxy S7 (Sm-G930X)    3199\n",
       "Name: Handset Type, dtype: int64"
      ]
     },
     "execution_count": 28,
     "metadata": {},
     "output_type": "execute_result"
    }
   ],
   "source": [
    "#Top 5 samsung handsets\n",
    "top_samsung = df_clean.groupby('Handset Manufacturer')['Handset Type'].value_counts()['Samsung'].head(5)\n",
    "top_samsung\n",
    "# top_samsung.plot.bar()"
   ]
  },
  {
   "cell_type": "code",
   "execution_count": 29,
   "metadata": {},
   "outputs": [
    {
     "data": {
      "text/plain": [
       "Handset Type\n",
       "Huawei B528S-23A                  19752\n",
       "Huawei E5180                       2079\n",
       "Huawei P20 Lite Huawei Nova 3E     2021\n",
       "Huawei P20                         1480\n",
       "Huawei Y6 2018                      997\n",
       "Name: Handset Type, dtype: int64"
      ]
     },
     "execution_count": 29,
     "metadata": {},
     "output_type": "execute_result"
    }
   ],
   "source": [
    "#Top 5 Huawei handset\n",
    "top_huawei = df_clean.groupby('Handset Manufacturer')['Handset Type'].value_counts()['Huawei'].head(5)\n",
    "top_huawei\n",
    "# top_huawei.plot.bar"
   ]
  },
  {
   "cell_type": "code",
   "execution_count": 30,
   "metadata": {},
   "outputs": [
    {
     "data": {
      "text/html": [
       "<h2> Task 1.1 - An overview of the users’ behavior on those applications</h2>"
      ],
      "text/plain": [
       "<IPython.core.display.HTML object>"
      ]
     },
     "metadata": {},
     "output_type": "display_data"
    }
   ],
   "source": [
    "display(HTML('<h2> Task 1.1 - An overview of the users’ behavior on those applications</h2>'))\n"
   ]
  },
  {
   "cell_type": "code",
   "execution_count": 34,
   "metadata": {},
   "outputs": [],
   "source": [
    "df_clean.to_csv('cleaned.csv')"
   ]
  },
  {
   "cell_type": "code",
   "execution_count": null,
   "metadata": {},
   "outputs": [],
   "source": [
    "#●\tAggregate per user the following information in the column  \n",
    "#     ○\tnumber of xDR sessions\n",
    "#     ○\tSession duration\n",
    "#     ○\tthe total download (DL) and upload (UL) data\n",
    "#     ○\tthe total data volume (in Bytes) during this session for each application\n",
    "\n",
    "#Code Credit - Daniel - https://github.com/daniEL2371\n",
    "\n",
    "sessions = df_clean.groupby('MSISDN/Number').agg({'Bearer Id': 'count'})\n",
    "sessions = sessions.rename(columns= {'Bearer Id': 'xDR_sessions'})\n",
    "sessions.sort_values(by=['xDR_sessions'], ascending = False).head(10)"
   ]
  },
  {
   "cell_type": "code",
   "execution_count": null,
   "metadata": {},
   "outputs": [],
   "source": [
    "# we group the data using  msisdn (customer number) and find sum the the duration for each customer\n",
    "\n",
    "durations = df_clean.groupby('MSISDN/Number').agg({'Dur. (ms).1': 'sum'})\n",
    "\n",
    "\n",
    "durations=durations.rename(columns= {'Dur. (ms).1': 'total_duration(ms)'})\n",
    "durations.sort_values(by=['total_duration(ms)'], ascending = False).head(10)"
   ]
  },
  {
   "cell_type": "code",
   "execution_count": null,
   "metadata": {},
   "outputs": [],
   "source": [
    "# the total download (DL) and upload (UL) data¶\n",
    "\n",
    "total_data_df = df_clean[['MSISDN/Number','Total UL (Bytes)','Total DL (Bytes)']].copy()\n",
    "total_data_df = total_data_df.groupby('MSISDN/Number').sum()\n",
    "total_data_df['total_data(bytes)'] = total_data_df['Total UL (Bytes)'] + total_data_df['Total DL (Bytes)']\n",
    "total_data_df.sort_values(by=['total_data(bytes)'], ascending = False).head(10)"
   ]
  },
  {
   "cell_type": "code",
   "execution_count": null,
   "metadata": {},
   "outputs": [],
   "source": [
    "df_clean[\"social_media\"] = df_clean[\"Social Media DL (Bytes)\"] + df_clean['Social Media UL (Bytes)']\n",
    "df_clean[\"google\"] = df_clean[\"Google DL (Bytes)\"] + df_clean[\"Google UL (Bytes)\"]\n",
    "df_clean['email'] = df_clean[\"Email DL (Bytes)\"] + df_clean[\"Email UL (Bytes)\"]\n",
    "df_clean['youtube'] = df_clean[\"Youtube DL (Bytes)\"] + df_clean[\"Youtube UL (Bytes)\"]\n",
    "df_clean['netflix'] = df_clean[\"Netflix DL (Bytes)\"] + df_clean[\"Netflix UL (Bytes)\"]\n",
    "df_clean[\"gaming\"] = df_clean[\"Gaming DL (Bytes)\"] + df_clean[\"Gaming UL (Bytes)\"]\n",
    "df_clean['other']= df_clean[\"Other DL (Bytes)\"]+ df_clean[\"Other UL (Bytes)\"]\n",
    "df_clean['total_data'] = df_clean['Total UL (Bytes)'] + df_clean['Total UL (Bytes)']"
   ]
  },
  {
   "cell_type": "code",
   "execution_count": null,
   "metadata": {},
   "outputs": [],
   "source": [
    "\n",
    "total_data = df_clean[['MSISDN/Number','social_media','google',\n",
    "                             'email', 'youtube','netflix', 'gaming','other']].copy()"
   ]
  },
  {
   "cell_type": "code",
   "execution_count": null,
   "metadata": {},
   "outputs": [],
   "source": [
    "total_data.groupby('MSISDN/Number').sum().sample(5)"
   ]
  },
  {
   "cell_type": "code",
   "execution_count": null,
   "metadata": {},
   "outputs": [],
   "source": [
    "display(HTML('<h2> Task 1.2 - An exploratory data analysis on those data & communicate useful insights</h2>'))\n"
   ]
  },
  {
   "cell_type": "code",
   "execution_count": null,
   "metadata": {},
   "outputs": [],
   "source": [
    "# An approach to analyzing data sets to summarize their main characteristics which include:\n",
    "\n",
    "# Choosing 10 column that I am intersted in that i belive will help on exploratory analysis\n",
    "\n",
    "\n",
    "df_explore = df_clean[['Handset Manufacturer', 'Handset Type', 'Dur. (ms)', \n",
    "                                 'social_media', 'google', 'email', 'youtube', 'netflix',\n",
    "                                 'gaming','other', 'total_data'\n",
    "                                ]]"
   ]
  },
  {
   "cell_type": "code",
   "execution_count": null,
   "metadata": {},
   "outputs": [],
   "source": [
    "df_explore.head()"
   ]
  },
  {
   "cell_type": "code",
   "execution_count": null,
   "metadata": {},
   "outputs": [],
   "source": [
    "df_explore[df_explore['google']>5]"
   ]
  },
  {
   "cell_type": "code",
   "execution_count": null,
   "metadata": {},
   "outputs": [],
   "source": [
    "#Converting byte data into megabytes\n",
    "\n",
    "import warnings\n",
    "warnings.filterwarnings('ignore')\n",
    "\n",
    "def convert_bytes_to_megabytes(df, bytes_data):\n",
    "\n",
    "        megabyte = 1*10e+5\n",
    "        megabyte_col = df[bytes_data] / megabyte\n",
    "\n",
    "        return megabyte_col\n",
    "\n",
    "#============================================================================\n",
    "    \n",
    "df_explore['social_media'] = convert_bytes_to_megabytes(df_explore, 'social_media')\n",
    "\n",
    "df_explore['google'] = convert_bytes_to_megabytes(df_explore, 'google')\n",
    "\n",
    "df_explore['email'] = convert_bytes_to_megabytes(df_explore, 'email')\n",
    "\n",
    "df_explore['youtube'] = convert_bytes_to_megabytes(df_explore, 'youtube')\n",
    "\n",
    "df_explore['netflix'] = convert_bytes_to_megabytes(df_explore, 'netflix')\n",
    "\n",
    "df_explore['gaming'] = convert_bytes_to_megabytes(df_explore, 'gaming')\n",
    "\n",
    "df_explore['total_data'] = convert_bytes_to_megabytes(df_explore, 'total_data')\n",
    "\n",
    "df_explore['other'] = convert_bytes_to_megabytes(df_explore, 'other')"
   ]
  },
  {
   "cell_type": "code",
   "execution_count": null,
   "metadata": {},
   "outputs": [],
   "source": [
    "#Univarent non graphical analysis\n",
    "quntitative_df = df_explore[['Dur. (ms)', 'social_media', 'google', 'email', 'youtube', 'netflix',\n",
    "                                 'gaming', 'total_data', 'other' ]]"
   ]
  },
  {
   "cell_type": "code",
   "execution_count": null,
   "metadata": {},
   "outputs": [],
   "source": [
    "quntitative_df.describe().transpose()\n"
   ]
  },
  {
   "cell_type": "code",
   "execution_count": null,
   "metadata": {},
   "outputs": [],
   "source": [
    "#Univarent graphical analysis\n",
    "#Checking for Outliers\n",
    "\n",
    "def plot_box(df:pd.DataFrame, x_col:str, title:str) -> None:\n",
    "    plt.figure(figsize=(12, 7))\n",
    "    sns.boxplot(data = df, x=x_col)\n",
    "    plt.title(title, size=20)\n",
    "    plt.xticks(rotation=75, fontsize=14)\n",
    "    plt.show()\n",
    "    \n",
    "plot_box(quntitative_df, \"youtube\", \"youtube outliers\")\n",
    "\n",
    "plot_box(quntitative_df, \"social_media\", \"social_media outliers\")\n",
    "\n",
    "plot_box(quntitative_df, \"google\", \"google outliers\")\n",
    "\n",
    "plot_box(quntitative_df, \"email\", \"email outliers\")\n",
    "\n",
    "plot_box(quntitative_df, \"netflix\", \"netflix outliers\")\n",
    "\n",
    "plot_box(quntitative_df, \"other_data\", \"other_data outliers\")\n",
    "\n",
    "plot_box(quntitative_df, \"total_data\", \"total_data outliers\")\n"
   ]
  },
  {
   "cell_type": "code",
   "execution_count": null,
   "metadata": {},
   "outputs": [],
   "source": [
    "plot_box(quntitative_df, \"Dur. (ms)\", \"duration\")\n",
    "# seeing the plot this column has outliners"
   ]
  },
  {
   "cell_type": "code",
   "execution_count": null,
   "metadata": {},
   "outputs": [],
   "source": [
    "#addressing the outliner\n",
    "quntitative_df['Dur. (ms)'] = np.where(quntitative_df['Dur. (ms)'] > quntitative_df['Dur. (ms)'].quantile(0.95),\n",
    "                                         quntitative_df['Dur. (ms)'].mode(),quntitative_df['Dur. (ms)'])\n",
    "plot_box(quntitative_df, \"Dur. (ms)\", \"duration\")"
   ]
  },
  {
   "cell_type": "code",
   "execution_count": null,
   "metadata": {},
   "outputs": [],
   "source": [
    "def plot_hist(df:pd.DataFrame, column:str, color:str)->None:\n",
    "    plt.figure(figsize=(9, 7))\n",
    "    sns.displot(data=df, x=column, color=color, kde=True, height=7, aspect=2)\n",
    "    plt.title(f'Distribution of {column}', size=20, fontweight='bold')\n",
    "    plt.show()\n",
    "    \n",
    "# from the utility function provided to plot the histogram \n",
    "\n",
    "plot_hist(quntitative_df, 'gaming', color='red')\n",
    "\n",
    "plot_hist(quntitative_df, 'netflix', color='yellow')\n",
    "\n",
    "plot_hist(quntitative_df, 'social_media', color='green')\n",
    "\n",
    "plot_hist(quntitative_df.sample(1000), 'Dur. (ms)', color='purple')\n",
    "\n",
    "plot_hist(quntitative_df, 'google', color='blue')\n",
    "\n",
    "plot_hist(quntitative_df, 'email', color='orange')\n",
    "\n",
    "plot_hist(quntitative_df, 'youtube', color='pink')\n"
   ]
  },
  {
   "cell_type": "code",
   "execution_count": null,
   "metadata": {},
   "outputs": [],
   "source": [
    "#Multi varent analysis"
   ]
  },
  {
   "cell_type": "markdown",
   "metadata": {
    "id": "f640ccb4"
   },
   "source": [
    "## Utility Functions"
   ]
  },
  {
   "cell_type": "code",
   "execution_count": null,
   "metadata": {
    "executionInfo": {
     "elapsed": 49,
     "status": "ok",
     "timestamp": 1626169654978,
     "user": {
      "displayName": "Kevin Karobia",
      "photoUrl": "",
      "userId": "11620910033834049837"
     },
     "user_tz": -180
    },
    "id": "42f432b8"
   },
   "outputs": [],
   "source": [
    "# From the google drive that was provided \n",
    "\n",
    "# Function to calculate missing values by column\n",
    "def missing_values_table(df):\n",
    "    # Total missing values\n",
    "    mis_val = df.isnull().sum()\n",
    "\n",
    "    # Percentage of missing values\n",
    "    mis_val_percent = 100 * df.isnull().sum() / len(df)\n",
    "\n",
    "    # dtype of missing values\n",
    "    mis_val_dtype = df.dtypes\n",
    "\n",
    "    # Make a table with the results\n",
    "    mis_val_table = pd.concat([mis_val, mis_val_percent, mis_val_dtype], axis=1)\n",
    "\n",
    "    # Rename the columns\n",
    "    mis_val_table_ren_columns = mis_val_table.rename(\n",
    "    columns = {0 : 'Missing Values', 1 : '% of Total Values', 2: 'Dtype'})\n",
    "\n",
    "    # Sort the table by percentage of missing descending\n",
    "    mis_val_table_ren_columns = mis_val_table_ren_columns[\n",
    "        mis_val_table_ren_columns.iloc[:,1] != 0].sort_values(\n",
    "    '% of Total Values', ascending=False).round(1)\n",
    "\n",
    "    # Print some summary information\n",
    "    print (\"Your selected dataframe has \" + str(df.shape[1]) + \" columns.\\n\"      \n",
    "        \"There are \" + str(mis_val_table_ren_columns.shape[0]) +\n",
    "          \" columns that have missing values.\")\n",
    "\n",
    "    # Return the dataframe with missing information\n",
    "    return mis_val_table_ren_columns\n",
    "\n",
    "def format_float(value):\n",
    "    return f'{value:,.2f}'\n",
    "\n",
    "def find_agg(df:pd.DataFrame, agg_column:str, agg_metric:str, col_name:str, top:int, order=False )->pd.DataFrame:\n",
    "    \n",
    "    new_df = df.groupby(agg_column)[agg_column].agg(agg_metric).reset_index(name=col_name).\\\n",
    "                        sort_values(by=col_name, ascending=order)[:top]\n",
    "    \n",
    "    return new_df\n",
    "\n",
    "def convert_bytes_to_megabytes(df, bytes_data):\n",
    "    \"\"\"\n",
    "        This function takes the dataframe and the column which has the bytes values\n",
    "        returns the megabytesof that value\n",
    "        \n",
    "        Args:\n",
    "        -----\n",
    "        df: dataframe\n",
    "        bytes_data: column with bytes values\n",
    "        \n",
    "        Returns:\n",
    "        --------\n",
    "        A series\n",
    "    \"\"\"\n",
    "    \n",
    "    megabyte = 1*10e+5\n",
    "    df[bytes_data] = df[bytes_data] / megabyte\n",
    "    return df[bytes_data]\n",
    "\n",
    "def fix_outlier(df, column):\n",
    "    df[column] = np.where(df[column] > df[column].quantile(0.95), df[column].median(),df[column])\n",
    "    \n",
    "    return df[column]\n",
    "\n",
    "\n",
    "###################################PLOTTING FUNCTIONS###################################\n",
    "\n",
    "def plot_hist(df:pd.DataFrame, column:str, color:str)->None:\n",
    "    # plt.figure(figsize=(15, 10))\n",
    "    # fig, ax = plt.subplots(1, figsize=(12, 7))\n",
    "    sns.displot(data=df, x=column, color=color, kde=True, height=7, aspect=2)\n",
    "    plt.title(f'Distribution of {column}', size=20, fontweight='bold')\n",
    "    plt.show()\n",
    "\n",
    "def plot_count(df:pd.DataFrame, column:str) -> None:\n",
    "    plt.figure(figsize=(12, 7))\n",
    "    sns.countplot(data=df, x=column)\n",
    "    plt.title(f'Distribution of {column}', size=20, fontweight='bold')\n",
    "    plt.show()\n",
    "    \n",
    "def plot_bar(df:pd.DataFrame, x_col:str, y_col:str, title:str, xlabel:str, ylabel:str)->None:\n",
    "    plt.figure(figsize=(12, 7))\n",
    "    sns.barplot(data = df, x=x_col, y=y_col)\n",
    "    plt.title(title, size=20)\n",
    "    plt.xticks(rotation=75, fontsize=14)\n",
    "    plt.yticks( fontsize=14)\n",
    "    plt.xlabel(xlabel, fontsize=16)\n",
    "    plt.ylabel(ylabel, fontsize=16)\n",
    "    plt.show()\n",
    "\n",
    "def plot_heatmap(df:pd.DataFrame, title:str, cbar=False)->None:\n",
    "    plt.figure(figsize=(12, 7))\n",
    "    sns.heatmap(df, annot=True, cmap='viridis', vmin=0, vmax=1, fmt='.2f', linewidths=.7, cbar=cbar )\n",
    "    plt.title(title, size=18, fontweight='bold')\n",
    "    plt.show()\n",
    "\n",
    "def plot_box(df:pd.DataFrame, x_col:str, title:str) -> None:\n",
    "    plt.figure(figsize=(12, 7))\n",
    "    sns.boxplot(data = df, x=x_col)\n",
    "    plt.title(title, size=20)\n",
    "    plt.xticks(rotation=75, fontsize=14)\n",
    "    plt.show()\n",
    "\n",
    "def plot_box_multi(df:pd.DataFrame, x_col:str, y_col:str, title:str) -> None:\n",
    "    plt.figure(figsize=(12, 7))\n",
    "    sns.boxplot(data = df, x=x_col, y=y_col)\n",
    "    plt.title(title, size=20)\n",
    "    plt.xticks(rotation=75, fontsize=14)\n",
    "    plt.yticks( fontsize=14)\n",
    "    plt.show()\n",
    "\n",
    "def plot_scatter(df: pd.DataFrame, x_col: str, y_col: str, title: str, hue: str, style: str) -> None:\n",
    "    plt.figure(figsize=(12, 7))\n",
    "    sns.scatterplot(data = df, x=x_col, y=y_col, hue=hue, style=style)\n",
    "    plt.title(title, size=20)\n",
    "    plt.xticks(fontsize=14)\n",
    "    plt.yticks( fontsize=14)\n",
    "    plt.show()\n",
    "\n",
    "\n",
    "pd.options.display.float_format = format_float"
   ]
  },
  {
   "cell_type": "markdown",
   "metadata": {
    "id": "GsLiCqPI11Eg"
   },
   "source": [
    "Data Exploration or Exploratory data analysis (EDA) is an approach to analyzing data sets to summarize their main characteristics which include:\n",
    "\n",
    "\n",
    "*   detection of mistakes, outliers or abnormalities\n",
    "*   determining relationships among the explanatory variables\n",
    "*   assessing the relationships between explanatory and outcome variables\n",
    "\n",
    "\n",
    "\n"
   ]
  },
  {
   "cell_type": "code",
   "execution_count": null,
   "metadata": {
    "colab": {
     "base_uri": "https://localhost:8080/",
     "height": 461
    },
    "executionInfo": {
     "elapsed": 636,
     "status": "ok",
     "timestamp": 1626169681818,
     "user": {
      "displayName": "Kevin Karobia",
      "photoUrl": "",
      "userId": "11620910033834049837"
     },
     "user_tz": -180
    },
    "id": "YZLcV1ospKJT",
    "outputId": "c950a840-1c7d-4f91-f954-2d3b77aaadd2"
   },
   "outputs": [],
   "source": [
    "dfExp = df_clean.copy()\n",
    "dfExp"
   ]
  },
  {
   "cell_type": "code",
   "execution_count": null,
   "metadata": {
    "colab": {
     "base_uri": "https://localhost:8080/"
    },
    "executionInfo": {
     "elapsed": 10,
     "status": "ok",
     "timestamp": 1626169682443,
     "user": {
      "displayName": "Kevin Karobia",
      "photoUrl": "",
      "userId": "11620910033834049837"
     },
     "user_tz": -180
    },
    "id": "3kpTKBZukKug",
    "outputId": "f1d6863c-a05c-4239-8b7e-ec2f2261ea76"
   },
   "outputs": [],
   "source": [
    "dfExp.dtypes"
   ]
  },
  {
   "cell_type": "markdown",
   "metadata": {
    "id": "fXiC8WLKppcL"
   },
   "source": [
    "### Univariate Analysis"
   ]
  },
  {
   "cell_type": "markdown",
   "metadata": {
    "id": "TcrHiYYs1I66"
   },
   "source": [
    "This is mainly analysis done on particular variable only i.e we search for the data charecteristics of a variable with disregard to all the other columns"
   ]
  },
  {
   "cell_type": "code",
   "execution_count": null,
   "metadata": {},
   "outputs": [],
   "source": [
    "df_clean.head()"
   ]
  },
  {
   "cell_type": "code",
   "execution_count": null,
   "metadata": {},
   "outputs": [],
   "source": [
    "\n",
    "\n",
    "df_apple = df_clean.loc[df_clean['Handset Manufacturer']=='Apple']\n",
    "df_samsung = df_clean.loc[df_clean['Handset Manufacturer']=='Samsung']\n",
    "df_huawei = df_clean.loc[df_clean['Handset Manufacturer']=='Huawei']\n",
    "\n",
    "plt.plot(df_apple['google'], np.zeros_like(df_apple['google']),'o')\n",
    "plt.plot(df_samsung['google'], np.zeros_like(df_samsung['google']),'o')\n",
    "plt.plot(df_huawei['google'], np.zeros_like(df_huawei['google']),'o')\n",
    "plt.xlabel('Google ')"
   ]
  },
  {
   "cell_type": "code",
   "execution_count": null,
   "metadata": {},
   "outputs": [],
   "source": [
    "sns.FacetGrid(df_clean, hue = \"Handset Manufacturer\", size=10 ).map(plt.scatter, \"Handset Type\",\"total_data\").add_legend();\n",
    "plt.show"
   ]
  },
  {
   "cell_type": "code",
   "execution_count": null,
   "metadata": {},
   "outputs": [],
   "source": [
    "# sns.pairplot(df_clean,hue=\"Handset Type\", size = 3)"
   ]
  },
  {
   "cell_type": "markdown",
   "metadata": {
    "id": "ei6KuNsrv0Ph"
   },
   "source": [
    "#### distributions"
   ]
  },
  {
   "cell_type": "code",
   "execution_count": null,
   "metadata": {
    "colab": {
     "base_uri": "https://localhost:8080/",
     "height": 534
    },
    "executionInfo": {
     "elapsed": 1910,
     "status": "ok",
     "timestamp": 1626169691842,
     "user": {
      "displayName": "Kevin Karobia",
      "photoUrl": "",
      "userId": "11620910033834049837"
     },
     "user_tz": -180
    },
    "id": "bl3Bf5h5w7sk",
    "outputId": "02364d27-f0dc-45d6-ebe9-33911e88fff5"
   },
   "outputs": [],
   "source": [
    "plot_hist(dfExp, \"Total DL (Bytes)\", \"blue\")"
   ]
  },
  {
   "cell_type": "code",
   "execution_count": null,
   "metadata": {
    "colab": {
     "base_uri": "https://localhost:8080/",
     "height": 534
    },
    "executionInfo": {
     "elapsed": 1461,
     "status": "ok",
     "timestamp": 1626169693284,
     "user": {
      "displayName": "Kevin Karobia",
      "photoUrl": "",
      "userId": "11620910033834049837"
     },
     "user_tz": -180
    },
    "id": "eOf1cAjzvsxO",
    "outputId": "c817124f-7b84-4bfa-d4ae-0d69bae38174"
   },
   "outputs": [],
   "source": [
    "plot_hist(dfExp, \"MSISDN/Number\", \"green\")"
   ]
  },
  {
   "cell_type": "code",
   "execution_count": null,
   "metadata": {
    "colab": {
     "base_uri": "https://localhost:8080/"
    },
    "executionInfo": {
     "elapsed": 25,
     "status": "ok",
     "timestamp": 1626169693287,
     "user": {
      "displayName": "Kevin Karobia",
      "photoUrl": "",
      "userId": "11620910033834049837"
     },
     "user_tz": -180
    },
    "id": "13goC8OXvusT",
    "outputId": "4677798f-b820-488e-f01a-732a043010ca"
   },
   "outputs": [],
   "source": [
    "dfExp[\"IMSI\"].describe()"
   ]
  },
  {
   "cell_type": "markdown",
   "metadata": {
    "id": "suhErKf2vvXd"
   },
   "source": [
    "#### Outliers"
   ]
  },
  {
   "cell_type": "code",
   "execution_count": null,
   "metadata": {
    "colab": {
     "base_uri": "https://localhost:8080/",
     "height": 475
    },
    "executionInfo": {
     "elapsed": 20,
     "status": "ok",
     "timestamp": 1626169696116,
     "user": {
      "displayName": "Kevin Karobia",
      "photoUrl": "",
      "userId": "11620910033834049837"
     },
     "user_tz": -180
    },
    "id": "l-6ssNTLpoTz",
    "outputId": "b5f7db2f-2e13-491e-d6cc-04358efff316"
   },
   "outputs": [],
   "source": [
    "plot_box(dfExp, \"time_in_hospital\", \"time in hospital outliers\")"
   ]
  },
  {
   "cell_type": "code",
   "execution_count": null,
   "metadata": {
    "colab": {
     "base_uri": "https://localhost:8080/",
     "height": 484
    },
    "executionInfo": {
     "elapsed": 24,
     "status": "ok",
     "timestamp": 1626169698802,
     "user": {
      "displayName": "Kevin Karobia",
      "photoUrl": "",
      "userId": "11620910033834049837"
     },
     "user_tz": -180
    },
    "id": "Zy5DgTY_of6Q",
    "outputId": "2cb8fe22-69c9-4c1c-ffeb-e844f006acbb"
   },
   "outputs": [],
   "source": [
    "plot_box(dfExp, \"num_lab_procedures\", \"number of lab procedures outliers\")"
   ]
  },
  {
   "cell_type": "code",
   "execution_count": null,
   "metadata": {
    "colab": {
     "base_uri": "https://localhost:8080/",
     "height": 475
    },
    "executionInfo": {
     "elapsed": 21,
     "status": "ok",
     "timestamp": 1626169699724,
     "user": {
      "displayName": "Kevin Karobia",
      "photoUrl": "",
      "userId": "11620910033834049837"
     },
     "user_tz": -180
    },
    "id": "oVig9ZSQuWy_",
    "outputId": "71147d4b-3e09-40ae-b1e3-1453f6672d7f"
   },
   "outputs": [],
   "source": [
    "plot_box(dfExp, \"num_medications\", \"number of medications outliers\")"
   ]
  },
  {
   "cell_type": "code",
   "execution_count": null,
   "metadata": {
    "executionInfo": {
     "elapsed": 10,
     "status": "ok",
     "timestamp": 1626169700356,
     "user": {
      "displayName": "Kevin Karobia",
      "photoUrl": "",
      "userId": "11620910033834049837"
     },
     "user_tz": -180
    },
    "id": "obFqkmrOpF5K"
   },
   "outputs": [],
   "source": [
    "dfExp[\"fixed_num_medications\"] = fix_outlier(dfExp, \"num_medications\")"
   ]
  },
  {
   "cell_type": "code",
   "execution_count": null,
   "metadata": {
    "colab": {
     "base_uri": "https://localhost:8080/",
     "height": 475
    },
    "executionInfo": {
     "elapsed": 25,
     "status": "ok",
     "timestamp": 1626169701456,
     "user": {
      "displayName": "Kevin Karobia",
      "photoUrl": "",
      "userId": "11620910033834049837"
     },
     "user_tz": -180
    },
    "id": "S962VGTepRfA",
    "outputId": "44ce8371-ff08-4992-f7d1-3aee769ac753"
   },
   "outputs": [],
   "source": [
    "plot_box(dfExp, \"fixed_num_medications\", \"number of medications outliers\")"
   ]
  },
  {
   "cell_type": "code",
   "execution_count": null,
   "metadata": {
    "colab": {
     "base_uri": "https://localhost:8080/",
     "height": 534
    },
    "executionInfo": {
     "elapsed": 997,
     "status": "ok",
     "timestamp": 1626169702434,
     "user": {
      "displayName": "Kevin Karobia",
      "photoUrl": "",
      "userId": "11620910033834049837"
     },
     "user_tz": -180
    },
    "id": "Tl2pXpzOpvZ2",
    "outputId": "9ed9425f-7bb0-4377-81b1-6cdcefd74307"
   },
   "outputs": [],
   "source": [
    "plot_hist(dfExp, \"fixed_num_medications\", \"red\")"
   ]
  },
  {
   "cell_type": "code",
   "execution_count": null,
   "metadata": {
    "colab": {
     "base_uri": "https://localhost:8080/"
    },
    "executionInfo": {
     "elapsed": 399,
     "status": "ok",
     "timestamp": 1626169741777,
     "user": {
      "displayName": "Kevin Karobia",
      "photoUrl": "",
      "userId": "11620910033834049837"
     },
     "user_tz": -180
    },
    "id": "Q3KJLJhVP8OA",
    "outputId": "b275ee27-f4f8-417a-95e7-9914fd8fa343"
   },
   "outputs": [],
   "source": [
    "dfExp[\"fixed_num_medications\"].describe()"
   ]
  },
  {
   "cell_type": "markdown",
   "metadata": {
    "id": "lb7rNIpxzCXd"
   },
   "source": [
    "#### categorical variables"
   ]
  },
  {
   "cell_type": "code",
   "execution_count": null,
   "metadata": {
    "colab": {
     "base_uri": "https://localhost:8080/",
     "height": 463
    },
    "id": "0B7412TKuwzK",
    "outputId": "4f243a85-c3d4-443d-8142-1fa32a6f700c"
   },
   "outputs": [],
   "source": [
    "plot_count(dfExp, \"Handset Type\")"
   ]
  },
  {
   "cell_type": "code",
   "execution_count": null,
   "metadata": {
    "colab": {
     "base_uri": "https://localhost:8080/",
     "height": 463
    },
    "id": "ZtBvwCoC0lpJ",
    "outputId": "08aae121-9812-4f37-ded4-9106b9efec3e"
   },
   "outputs": [],
   "source": [
    "plot_count(dfExp, \"gender\")"
   ]
  },
  {
   "cell_type": "code",
   "execution_count": null,
   "metadata": {
    "id": "0f5WduXB0vHW"
   },
   "outputs": [],
   "source": []
  },
  {
   "cell_type": "markdown",
   "metadata": {
    "id": "msqJavkF3ksN"
   },
   "source": [
    "### Multivariate Analysis"
   ]
  },
  {
   "cell_type": "markdown",
   "metadata": {
    "id": "nv6Uu2_t6sAO"
   },
   "source": [
    "This analysis that mainly done on two or more columns where we look for relationships between columns and how our data is distributed amoung values in multiple columns"
   ]
  },
  {
   "cell_type": "markdown",
   "metadata": {
    "id": "ZSc1mZCz7QcG"
   },
   "source": [
    "#### scatter plots"
   ]
  },
  {
   "cell_type": "code",
   "execution_count": null,
   "metadata": {
    "colab": {
     "base_uri": "https://localhost:8080/",
     "height": 468
    },
    "id": "L6gHqeO54Gmf",
    "outputId": "6777bd67-7782-46fe-841c-383c5dc35fb4"
   },
   "outputs": [],
   "source": [
    "plot_scatter(dfExp.head(100), x_col=\"num_lab_procedures\", y_col=\"num_medications\", hue=\"race\",\n",
    "             style=\"race\", title=\"number of medications vs number of lab procedures\")"
   ]
  },
  {
   "cell_type": "code",
   "execution_count": null,
   "metadata": {
    "colab": {
     "base_uri": "https://localhost:8080/",
     "height": 468
    },
    "id": "0TJpVd_X8GG6",
    "outputId": "9034f470-dd6d-4815-e144-4df4c6a1deb0"
   },
   "outputs": [],
   "source": [
    "plot_scatter(dfExp.head(1000), x_col=\"time_in_hospital\", y_col=\"num_lab_procedures\", hue=\"race\",\n",
    "             style=\"race\", title=\"number of lab procedures vs time in hospital\")"
   ]
  },
  {
   "cell_type": "markdown",
   "metadata": {
    "id": "GSpf_ku4_vPd"
   },
   "source": [
    "#### Box Plots"
   ]
  },
  {
   "cell_type": "code",
   "execution_count": null,
   "metadata": {
    "colab": {
     "base_uri": "https://localhost:8080/",
     "height": 569
    },
    "id": "j4IiL0OH_iOI",
    "outputId": "f0283434-01b9-4732-ffd8-ef4900c5b1d0"
   },
   "outputs": [],
   "source": [
    "plot_box_multi(dfExp, x_col=\"race\", y_col=\"num_medications\", title=\"number of medications outilers in race column\")"
   ]
  },
  {
   "cell_type": "code",
   "execution_count": null,
   "metadata": {
    "colab": {
     "base_uri": "https://localhost:8080/",
     "height": 569
    },
    "id": "7Gln1iCC_t0B",
    "outputId": "b9672c9e-d6b8-47f5-c590-97420f50ed5c"
   },
   "outputs": [],
   "source": [
    "plot_box_multi(dfExp, x_col=\"gender\", y_col=\"num_medications\", title=\"number of medications outilers in race column\")"
   ]
  },
  {
   "cell_type": "markdown",
   "metadata": {
    "id": "93bjOTCWObU2"
   },
   "source": [
    "#### pair plots\n",
    "\n",
    "pair plots also known as scatterplot matrix, they allow us to see both distributions of single columns and the relationship between two columns"
   ]
  },
  {
   "cell_type": "code",
   "execution_count": null,
   "metadata": {
    "id": "3gt8I3wCsyXY"
   },
   "outputs": [],
   "source": [
    "dfPair = dfExp[[\"race\", \"time_in_hospital\", \"num_procedures\", \"num_lab_procedures\", \"num_medications\"]]"
   ]
  },
  {
   "cell_type": "code",
   "execution_count": null,
   "metadata": {
    "colab": {
     "base_uri": "https://localhost:8080/",
     "height": 1000
    },
    "id": "LTdTm1aZCEet",
    "outputId": "347ec8b2-052c-4134-cf7d-c0be8d568d7e"
   },
   "outputs": [],
   "source": [
    "sns.pairplot(dfPair, hue = 'race', diag_kind = 'kde',\n",
    "             plot_kws = {'alpha': 0.6, 's': 80, 'edgecolor': 'k'},\n",
    "             height=4)"
   ]
  },
  {
   "cell_type": "code",
   "execution_count": null,
   "metadata": {
    "id": "bWgBaB6UN7vm"
   },
   "outputs": [],
   "source": []
  }
 ],
 "metadata": {
  "colab": {
   "collapsed_sections": [],
   "name": "Data_Cleaning,_Transforming_and_Extraction.ipynb",
   "provenance": []
  },
  "kernelspec": {
   "display_name": "Python 3",
   "language": "python",
   "name": "python3"
  },
  "language_info": {
   "codemirror_mode": {
    "name": "ipython",
    "version": 3
   },
   "file_extension": ".py",
   "mimetype": "text/x-python",
   "name": "python",
   "nbconvert_exporter": "python",
   "pygments_lexer": "ipython3",
   "version": "3.8.5"
  }
 },
 "nbformat": 4,
 "nbformat_minor": 5
}
